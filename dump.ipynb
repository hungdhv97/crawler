{
 "cells": [
  {
   "cell_type": "code",
   "execution_count": 88,
   "id": "initial_id",
   "metadata": {
    "collapsed": true,
    "ExecuteTime": {
     "end_time": "2023-11-22T09:49:09.530830939Z",
     "start_time": "2023-11-22T09:49:09.525110133Z"
    }
   },
   "outputs": [],
   "source": [
    "def read_select_query_from_file(file_path):\n",
    "    with open(file_path, 'r') as file:\n",
    "        query = file.read()\n",
    "    return query    "
   ]
  },
  {
   "cell_type": "code",
   "execution_count": 95,
   "outputs": [],
   "source": [
    "import sqlite3"
   ],
   "metadata": {
    "collapsed": false,
    "ExecuteTime": {
     "end_time": "2023-11-22T09:50:14.577193500Z",
     "start_time": "2023-11-22T09:50:14.526197278Z"
    }
   },
   "id": "552009c13f384d5a"
  },
  {
   "cell_type": "code",
   "execution_count": 96,
   "outputs": [],
   "source": [
    "conn = sqlite3.connect('data1.sqlite3')"
   ],
   "metadata": {
    "collapsed": false,
    "ExecuteTime": {
     "end_time": "2023-11-22T09:50:14.767892676Z",
     "start_time": "2023-11-22T09:50:14.762035849Z"
    }
   },
   "id": "c3d8231c33546d4d"
  },
  {
   "cell_type": "code",
   "execution_count": 97,
   "outputs": [],
   "source": [
    "cursor = conn.cursor()"
   ],
   "metadata": {
    "collapsed": false,
    "ExecuteTime": {
     "end_time": "2023-11-22T09:50:14.910475946Z",
     "start_time": "2023-11-22T09:50:14.904657050Z"
    }
   },
   "id": "24bd8b42b2c2dd6c"
  },
  {
   "cell_type": "code",
   "execution_count": 98,
   "outputs": [],
   "source": [
    "query = read_select_query_from_file('test.sql')"
   ],
   "metadata": {
    "collapsed": false,
    "ExecuteTime": {
     "end_time": "2023-11-22T09:50:15.092643942Z",
     "start_time": "2023-11-22T09:50:15.084993949Z"
    }
   },
   "id": "f411282e9c19e5e2"
  },
  {
   "cell_type": "code",
   "execution_count": 99,
   "outputs": [
    {
     "data": {
      "text/plain": "<sqlite3.Cursor at 0x7fc998e3ea40>"
     },
     "execution_count": 99,
     "metadata": {},
     "output_type": "execute_result"
    }
   ],
   "source": [
    "cursor.executescript(query)"
   ],
   "metadata": {
    "collapsed": false,
    "ExecuteTime": {
     "end_time": "2023-11-22T09:50:15.238753053Z",
     "start_time": "2023-11-22T09:50:15.233131982Z"
    }
   },
   "id": "7f0dfa1d6fbadafd"
  },
  {
   "cell_type": "code",
   "execution_count": 100,
   "outputs": [
    {
     "data": {
      "text/plain": "'SELECT *\\nFROM stories_story;'"
     },
     "execution_count": 100,
     "metadata": {},
     "output_type": "execute_result"
    }
   ],
   "source": [
    "query"
   ],
   "metadata": {
    "collapsed": false,
    "ExecuteTime": {
     "end_time": "2023-11-22T09:50:15.466690690Z",
     "start_time": "2023-11-22T09:50:15.460919963Z"
    }
   },
   "id": "e6474f1e9f935e28"
  },
  {
   "cell_type": "code",
   "execution_count": 101,
   "outputs": [],
   "source": [
    "import pymysql"
   ],
   "metadata": {
    "collapsed": false,
    "ExecuteTime": {
     "end_time": "2023-11-22T09:55:37.063061323Z",
     "start_time": "2023-11-22T09:55:37.026363604Z"
    }
   },
   "id": "b317a927e2a7809b"
  },
  {
   "cell_type": "code",
   "execution_count": null,
   "outputs": [],
   "source": [
    "pymysql.escape_string()"
   ],
   "metadata": {
    "collapsed": false
   },
   "id": "e2846549cb651ce6"
  }
 ],
 "metadata": {
  "kernelspec": {
   "display_name": "Python 3",
   "language": "python",
   "name": "python3"
  },
  "language_info": {
   "codemirror_mode": {
    "name": "ipython",
    "version": 2
   },
   "file_extension": ".py",
   "mimetype": "text/x-python",
   "name": "python",
   "nbconvert_exporter": "python",
   "pygments_lexer": "ipython2",
   "version": "2.7.6"
  }
 },
 "nbformat": 4,
 "nbformat_minor": 5
}
